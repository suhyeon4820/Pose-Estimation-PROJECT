{
 "cells": [
  {
   "cell_type": "code",
   "execution_count": 1,
   "metadata": {},
   "outputs": [
    {
     "name": "stderr",
     "output_type": "stream",
     "text": [
      "Using TensorFlow backend.\n"
     ]
    }
   ],
   "source": [
    "import argparse\n",
    "import time\n",
    "\n",
    "import cv2\n",
    "\n",
    "from processing import extract_parts, draw\n",
    "\n",
    "from config_reader import config_reader\n",
    "from model.cmu_model import get_testing_model\n",
    "import easydict\n",
    "import glob\n",
    "import numpy as np"
   ]
  },
  {
   "cell_type": "code",
   "execution_count": 3,
   "metadata": {},
   "outputs": [],
   "source": [
    "def crop(image, w, f):\n",
    "    return image[:, int(w * f): int(w * (1 - f))]"
   ]
  },
  {
   "cell_type": "code",
   "execution_count": null,
   "metadata": {},
   "outputs": [
    {
     "name": "stdout",
     "output_type": "stream",
     "text": [
      "processing time is 11.45638\n",
      "processing time is 22.53911\n"
     ]
    }
   ],
   "source": [
    "tic = time.time()\n",
    "file_list = glob.glob('input_data/*.jpg') \n",
    "number = 0\n",
    "\n",
    "for i in range(len(file_list)):    \n",
    "    \n",
    "    factor = 0.1\n",
    "    scale_search = [0.22, 0.25, .5, 1, 1.5, 2]  \n",
    "    process_speed = 1\n",
    "    scale_search = scale_search[0:process_speed]\n",
    "    params['scale_search'] = scale_search\n",
    "    resize_fac = 0.6\n",
    "\n",
    "    model = get_testing_model()\n",
    "    model.load_weights('model/keras/model.h5')\n",
    "    params, model_params = config_reader()\n",
    "    input_image = cv2.imread(file_list[i])\n",
    "\n",
    "    black = cv2.imread('black.png')\n",
    "    \n",
    "    width = input_image.shape[1] \n",
    "\n",
    "    frame = crop(input_image, width, factor)\n",
    "    input_image = cv2.resize(frame, (0, 0), fx=1/resize_fac, fy=1/resize_fac, interpolation=cv2.INTER_CUBIC)\n",
    "    input_image = cv2.cvtColor(input_image, cv2.COLOR_RGB2BGR)\n",
    "\n",
    "    body_parts, all_peaks, subset, candidate = extract_parts(input_image, params, model, model_params)\n",
    "    black = draw(black, all_peaks, subset, candidate)\n",
    "    \n",
    "    toc = time.time()\n",
    "    cv2.imwrite('output_data/test%d.jpg'%number, black)\n",
    "    print('processing time is %.5f' % (toc - tic))\n",
    "    number += 1\n",
    "\n",
    "cv2.destroyAllWindows()"
   ]
  }
 ],
 "metadata": {
  "kernelspec": {
   "display_name": "Python 3",
   "language": "python",
   "name": "python3"
  },
  "language_info": {
   "codemirror_mode": {
    "name": "ipython",
    "version": 3
   },
   "file_extension": ".py",
   "mimetype": "text/x-python",
   "name": "python",
   "nbconvert_exporter": "python",
   "pygments_lexer": "ipython3",
   "version": "3.7.7"
  }
 },
 "nbformat": 4,
 "nbformat_minor": 4
}
