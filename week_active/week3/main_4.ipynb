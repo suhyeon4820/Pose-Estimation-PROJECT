{
 "cells": [
  {
   "cell_type": "code",
   "execution_count": 1,
   "metadata": {},
   "outputs": [
    {
     "name": "stderr",
     "output_type": "stream",
     "text": [
      "Using TensorFlow backend.\n"
     ]
    }
   ],
   "source": [
    "from keras.models import load_model\n",
    "import cv2\n",
    "import numpy as np\n",
    "from random import choice\n",
    "import time\n",
    "import os, random\n",
    "import glob\n",
    "#from PIL import Image\n",
    "from keras.preprocessing import image\n",
    "from keras.preprocessing.image import ImageDataGenerator\n",
    "\n",
    "from tkinter import *\n",
    "from tkinter.ttk import Progressbar\n",
    "from tkinter import ttk"
   ]
  },
  {
   "cell_type": "markdown",
   "metadata": {},
   "source": [
    "# Game Interface"
   ]
  },
  {
   "cell_type": "code",
   "execution_count": 7,
   "metadata": {},
   "outputs": [],
   "source": [
    "def startGameInterface():\n",
    "    ###### Options ########\n",
    "    gameTitle = \"Welcome to Follow My Lead\"\n",
    "    #backgroundImagePath = \"photobg3.gif\"\n",
    "    backgroundImageColor = \"black\"\n",
    "    windowAddedHeight = 55\n",
    "    welcomeText = \"Welcome To Follow My Lead\"; welcomeTextBgColor=\"black\";  welcomeTextColor = \"white\"\n",
    "    buttonText = \"Start Game\"; buttonBgColor = \"black\"; buttonTextColor=\"white\";\n",
    "    progressBarWaitSeconds = 2;\n",
    "\n",
    "    ###### Create Window ######\n",
    "    window = Tk()  # Tk 클래스 객체(window) 생성\n",
    "    window.resizable(False, False)\n",
    "    window.title(gameTitle)\n",
    "\n",
    "    ###### Assign Background Image #####\n",
    "    #photoBg = PhotoImage(file=backgroundImagePath)\n",
    "    photoBg = PhotoImage(file=\"a.png\")\n",
    "    window.geometry(str(photoBg.width())+'x'+str(photoBg.height()+windowAddedHeight))\n",
    "    window.configure(background=backgroundImageColor)\n",
    "    Label(window, image=photoBg).grid(row=0, column=0, sticky=W)  # , bg=\"black\"\n",
    "\n",
    "    ###### Assign Welcome Text #####\n",
    "    Label(window, text=welcomeText, bg=welcomeTextBgColor, fg=welcomeTextColor, font=\"none 12 bold\").grid(row=1, column=0, sticky=W)\n",
    "\n",
    "    ###### Button ############\n",
    "    def clicked():\n",
    "        oldTime = time.time(); finishTime = oldTime + progressBarWaitSeconds\n",
    "        while (time.time() < finishTime):\n",
    "            bar['value'] = 100 - int(100 *(finishTime-time.time())/progressBarWaitSeconds)\n",
    "            window.update_idletasks()\n",
    "        window.destroy()\n",
    "        global openGame; openGame=1\n",
    "    btn = Button(window, text=buttonText,  bg=buttonBgColor, fg=buttonTextColor, font=(\"Arial Bold\", 10), command=clicked)  #, padx=5, pady=5\n",
    "    btn.grid(column=0, row=0)\n",
    "\n",
    "    ###### Progress Bar ######\n",
    "    style = ttk.Style()\n",
    "    style.theme_use('default')\n",
    "    style.configure(\"black.Horizontal.TProgressbar\", background='black')\n",
    "    bar = Progressbar(window, length=400, style='black.Horizontal.TProgressbar')\n",
    "    bar['value'] = 0\n",
    "    bar.grid(column=0, row=2)\n",
    "\n",
    "    #### Start Loop ######\n",
    "    window.mainloop()"
   ]
  },
  {
   "cell_type": "code",
   "execution_count": 8,
   "metadata": {},
   "outputs": [],
   "source": [
    "def makeSureBackGroundClearConfirm():\n",
    "\n",
    "    ######## Options #########\n",
    "    fontColor = (255, 255, 0); fontScale = 1;  lineType = 2; font = cv2.FONT_HERSHEY_SIMPLEX\n",
    "    textPositionOriginal = (10, 100)\n",
    "    welcomeText = 'Ready and Press Enterkey !!!!!!'\n",
    "    betweenLineSpace = 100\n",
    "\n",
    "    welcomeTextArray = welcomeText.split('/n')\n",
    "    \n",
    "    videoCam = cv2.VideoCapture(0) # index : 카메라 장치 번호 (0 부터 차례로 증가)\n",
    "    \n",
    "    # Check web cam is working\n",
    "    if videoCam.isOpened():       # 캡쳐 객체 연결 확인\n",
    "        # ret : 프레임 읽기 성공 또는 실패 여부, True / False\n",
    "        # originalVid : 프레임 이미지, Numpy 배열 또는 None\n",
    "        ret, originalVid = videoCam.read()     # 다음 프레임 읽기\n",
    "    else:\n",
    "        ret = False\n",
    "        \n",
    "    # Original Video\n",
    "    while ret:  # 프레임 읽기가 성공 했다면~\n",
    "        ret, originalVid = videoCam.read()\n",
    "        #### Write Text ####\n",
    "        textPosition = textPositionOriginal\n",
    "        for i in range(len(welcomeTextArray)):\n",
    "            cv2.putText(originalVid, welcomeTextArray[i], textPosition, font, fontScale, fontColor, lineType)\n",
    "            textPositionList = list(textPosition)     #Had to do this to change element in tuple\n",
    "            textPositionList[1] += betweenLineSpace;\n",
    "            textPosition = tuple(textPositionList)\n",
    "        cv2.imshow(\"Original\", originalVid)\n",
    "        inputKey = cv2.waitKey(1)  # 1ms 지연(40fps로 가정) \n",
    "        if inputKey == 13:\n",
    "            global openGame; openGame=2\n",
    "            break;\n",
    "        elif inputKey == 27:\n",
    "            break;\n",
    "    cv2.destroyAllWindows()\n",
    "    videoCam.release()"
   ]
  },
  {
   "cell_type": "markdown",
   "metadata": {},
   "source": [
    "# Main"
   ]
  },
  {
   "cell_type": "code",
   "execution_count": 9,
   "metadata": {},
   "outputs": [],
   "source": [
    "def timeOnScreen(originalVid, t ,score):\n",
    "    fontColor = (255, 255, 255);\n",
    "    fontScale = 1;\n",
    "    lineType = 2;\n",
    "    font = cv2.FONT_HERSHEY_SIMPLEX\n",
    "\n",
    "    timeText = \"Time Left \" + str(int(t))\n",
    "    scoreText=\"Score \"+str(score)\n",
    "    timePosition = (60, 100)\n",
    "    scorePosition= (60,150)\n",
    "    cv2.putText(originalVid, timeText, timePosition, font, fontScale, fontColor, lineType)\n",
    "    cv2.putText(originalVid, scoreText, scorePosition, font, fontScale, fontColor, lineType)"
   ]
  },
  {
   "cell_type": "code",
   "execution_count": 10,
   "metadata": {},
   "outputs": [],
   "source": [
    "def showimage1(random_number, t, score):\n",
    "    icon = cv2.imread('random_img/{}.jpg'.format(random_number))\n",
    "    icon = cv2.resize(icon, (400, 380))\n",
    "    \n",
    "    timeOnScreen(icon, t ,score)\n",
    "    \n",
    "    cv2.imshow('Pose', icon)"
   ]
  },
  {
   "cell_type": "code",
   "execution_count": 11,
   "metadata": {},
   "outputs": [],
   "source": [
    "def main():\n",
    "    model = load_model('model.h5')\n",
    "    img_dim = 128\n",
    "    class_labels = ['1', '2', '3']\n",
    "    \n",
    "    cap = cv2.VideoCapture(0)\n",
    "    font = cv2.FONT_HERSHEY_SIMPLEX\n",
    "    t0=time.time()\n",
    "    gameType=0\n",
    "    random_number = choice(['1', '2', '3'])\n",
    "    score=0\n",
    "    while True:\n",
    "        ret, frame = cap.read()\n",
    "    \n",
    "        # webcam space\n",
    "        cv2.rectangle(frame, (100, 100), (500, 500), (255, 255, 255), 2)\n",
    "        roi = frame[0:500, 0:500]\n",
    "        img = cv2.cvtColor(roi, cv2.COLOR_BGR2RGB)\n",
    "        img = cv2.resize(img, (img_dim, img_dim))\n",
    "    \n",
    "        ## 포즈 예측##\n",
    "        img = image.img_to_array(img)\n",
    "        img = np.expand_dims(img, axis=0)\n",
    "        img = img.astype('float32')/255\n",
    "        pred = np.argmax(model.predict(img)) \n",
    "        color = (0,0,255)\n",
    "        cv2.putText(frame, class_labels[pred], (50,50), font, 1.0, color, 2) \n",
    "        \n",
    "    \n",
    "        currentTime = time.time()\n",
    "        timeDiff = currentTime - t0\n",
    "        displayTime = 5\n",
    "        #score=0\n",
    "        t=0\n",
    "        gameType ==0\n",
    "        \n",
    "        \n",
    "        cv2.imshow('Webcam', np.fliplr(frame))\n",
    "        #print(class_labels[pred])\n",
    "        if class_labels[pred] == random_number:\n",
    "            if timeDiff > displayTime: \n",
    "                score += 1\n",
    "            \n",
    "                #print(\"matching\")\n",
    "            \n",
    "        showimage1(random_number, displayTime-timeDiff, score)\n",
    "        if timeDiff > displayTime:\n",
    "            #cv2.destroyWindow('IMG')\n",
    "            t0 = time.time()\n",
    "            random_number = choice(['1', '2', '3'])\n",
    "            #print('game over') \n",
    "        \n",
    "        \n",
    "        if cv2.waitKey(1) & 0xFF == ord('q'):\n",
    "            break\n",
    "            \n",
    "    print(\"score :\", score)\n",
    "    cap.release()\n",
    "    cv2.destroyAllWindows()  "
   ]
  },
  {
   "cell_type": "code",
   "execution_count": 12,
   "metadata": {},
   "outputs": [
    {
     "name": "stdout",
     "output_type": "stream",
     "text": [
      "score : 2\n"
     ]
    }
   ],
   "source": [
    "openGame = 0;   # If you wanna skip interface, assign this to 2\n",
    "\n",
    "startGameInterface()\n",
    "\n",
    "if(openGame==1):\n",
    "    makeSureBackGroundClearConfirm()\n",
    "\n",
    "if(openGame==2):\n",
    "    if __name__==\"__main__\":\n",
    "        main()"
   ]
  },
  {
   "cell_type": "code",
   "execution_count": null,
   "metadata": {},
   "outputs": [],
   "source": []
  }
 ],
 "metadata": {
  "kernelspec": {
   "display_name": "Python 3",
   "language": "python",
   "name": "python3"
  },
  "language_info": {
   "codemirror_mode": {
    "name": "ipython",
    "version": 3
   },
   "file_extension": ".py",
   "mimetype": "text/x-python",
   "name": "python",
   "nbconvert_exporter": "python",
   "pygments_lexer": "ipython3",
   "version": "3.7.7"
  }
 },
 "nbformat": 4,
 "nbformat_minor": 4
}
